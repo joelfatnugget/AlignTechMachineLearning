{
 "cells": [
  {
   "cell_type": "markdown",
   "id": "09ef3777",
   "metadata": {},
   "source": [
    "# Things to Note before starting"
   ]
  },
  {
   "cell_type": "markdown",
   "id": "42764618",
   "metadata": {},
   "source": [
    "#### Refer to the README file first! "
   ]
  },
  {
   "cell_type": "code",
   "execution_count": null,
   "id": "4e67ef6b",
   "metadata": {},
   "outputs": [],
   "source": []
  },
  {
   "cell_type": "code",
   "execution_count": 27,
   "id": "e0523919",
   "metadata": {},
   "outputs": [],
   "source": [
    "import warnings\n",
    "warnings.filterwarnings('ignore')"
   ]
  },
  {
   "cell_type": "code",
   "execution_count": 2,
   "id": "726cbbda",
   "metadata": {},
   "outputs": [],
   "source": [
    "import pandas as pd\n",
    "import numpy as np\n",
    "from sklearn.linear_model import LogisticRegression\n",
    "from sklearn.metrics import accuracy_score, confusion_matrix, classification_report, ConfusionMatrixDisplay\n",
    "from sklearn.preprocessing import MinMaxScaler\n",
    "from sklearn.feature_selection import RFE\n",
    "from sklearn.model_selection import train_test_split, GridSearchCV\n",
    "from sklearn.preprocessing import LabelEncoder\n",
    "from sklearn.tree import DecisionTreeClassifier\n",
    "from sklearn import metrics\n",
    "from sklearn.ensemble import RandomForestClassifier\n",
    "from sklearn.datasets import make_classification\n",
    "import xgboost as xgb\n",
    "import time\n",
    "label_encoder = LabelEncoder()"
   ]
  },
  {
   "cell_type": "markdown",
   "id": "15c66064",
   "metadata": {},
   "source": [
    "### Reading The Data"
   ]
  },
  {
   "cell_type": "code",
   "execution_count": 28,
   "id": "9f323ee9",
   "metadata": {},
   "outputs": [
    {
     "data": {
      "text/html": [
       "<div>\n",
       "<style scoped>\n",
       "    .dataframe tbody tr th:only-of-type {\n",
       "        vertical-align: middle;\n",
       "    }\n",
       "\n",
       "    .dataframe tbody tr th {\n",
       "        vertical-align: top;\n",
       "    }\n",
       "\n",
       "    .dataframe thead th {\n",
       "        text-align: right;\n",
       "    }\n",
       "</style>\n",
       "<table border=\"1\" class=\"dataframe\">\n",
       "  <thead>\n",
       "    <tr style=\"text-align: right;\">\n",
       "      <th></th>\n",
       "      <th>Able_to_Implement_Maintain_Change__c</th>\n",
       "      <th>Account_Clasification__c</th>\n",
       "      <th>Account_Country__c</th>\n",
       "      <th>Account_Owner_Manager_Name__c</th>\n",
       "      <th>Account_Owner_On_financingapproved__c</th>\n",
       "      <th>Account_Owner_Role__c</th>\n",
       "      <th>Account_Sub__c</th>\n",
       "      <th>AccountId</th>\n",
       "      <th>Active_marketing_in_practice__c</th>\n",
       "      <th>ADAPT_Account_Type__c</th>\n",
       "      <th>...</th>\n",
       "      <th>YR_1_Months__c</th>\n",
       "      <th>YR_2_End_Date__c</th>\n",
       "      <th>Yr_2_Incremental__c</th>\n",
       "      <th>YR_2_Months__c</th>\n",
       "      <th>YR_3_End_Date__c</th>\n",
       "      <th>Yr_3_Incremental__c</th>\n",
       "      <th>YR_3_Months__c</th>\n",
       "      <th>converted_lead__c</th>\n",
       "      <th>Finance_duration_years__c</th>\n",
       "      <th>Monthly_leasing_fee__c</th>\n",
       "    </tr>\n",
       "  </thead>\n",
       "  <tbody>\n",
       "    <tr>\n",
       "      <th>0</th>\n",
       "      <td>NaN</td>\n",
       "      <td>NaN</td>\n",
       "      <td>NaN</td>\n",
       "      <td>NaN</td>\n",
       "      <td>NaN</td>\n",
       "      <td>NaN</td>\n",
       "      <td>Private Practice</td>\n",
       "      <td>0010H00002kMkX5QAK</td>\n",
       "      <td>False</td>\n",
       "      <td>NaN</td>\n",
       "      <td>...</td>\n",
       "      <td>NaN</td>\n",
       "      <td>NaN</td>\n",
       "      <td>NaN</td>\n",
       "      <td>NaN</td>\n",
       "      <td>NaN</td>\n",
       "      <td>NaN</td>\n",
       "      <td>NaN</td>\n",
       "      <td>NaN</td>\n",
       "      <td>NaN</td>\n",
       "      <td>NaN</td>\n",
       "    </tr>\n",
       "    <tr>\n",
       "      <th>1</th>\n",
       "      <td>NaN</td>\n",
       "      <td>NaN</td>\n",
       "      <td>NaN</td>\n",
       "      <td>NaN</td>\n",
       "      <td>NaN</td>\n",
       "      <td>NaN</td>\n",
       "      <td>Private Practice</td>\n",
       "      <td>0016S00002y5wmbQAA</td>\n",
       "      <td>False</td>\n",
       "      <td>NaN</td>\n",
       "      <td>...</td>\n",
       "      <td>NaN</td>\n",
       "      <td>NaN</td>\n",
       "      <td>NaN</td>\n",
       "      <td>NaN</td>\n",
       "      <td>NaN</td>\n",
       "      <td>NaN</td>\n",
       "      <td>NaN</td>\n",
       "      <td>NaN</td>\n",
       "      <td>NaN</td>\n",
       "      <td>NaN</td>\n",
       "    </tr>\n",
       "    <tr>\n",
       "      <th>2</th>\n",
       "      <td>NaN</td>\n",
       "      <td>NaN</td>\n",
       "      <td>NaN</td>\n",
       "      <td>NaN</td>\n",
       "      <td>NaN</td>\n",
       "      <td>NaN</td>\n",
       "      <td>Private Practice</td>\n",
       "      <td>0010H00002pvsjvQAA</td>\n",
       "      <td>False</td>\n",
       "      <td>NaN</td>\n",
       "      <td>...</td>\n",
       "      <td>NaN</td>\n",
       "      <td>NaN</td>\n",
       "      <td>NaN</td>\n",
       "      <td>NaN</td>\n",
       "      <td>NaN</td>\n",
       "      <td>NaN</td>\n",
       "      <td>NaN</td>\n",
       "      <td>NaN</td>\n",
       "      <td>NaN</td>\n",
       "      <td>NaN</td>\n",
       "    </tr>\n",
       "    <tr>\n",
       "      <th>3</th>\n",
       "      <td>NaN</td>\n",
       "      <td>NaN</td>\n",
       "      <td>NaN</td>\n",
       "      <td>NaN</td>\n",
       "      <td>NaN</td>\n",
       "      <td>NaN</td>\n",
       "      <td>Private Practice</td>\n",
       "      <td>0010H00002kMZ3nQAG</td>\n",
       "      <td>False</td>\n",
       "      <td>NaN</td>\n",
       "      <td>...</td>\n",
       "      <td>NaN</td>\n",
       "      <td>NaN</td>\n",
       "      <td>NaN</td>\n",
       "      <td>NaN</td>\n",
       "      <td>NaN</td>\n",
       "      <td>NaN</td>\n",
       "      <td>NaN</td>\n",
       "      <td>NaN</td>\n",
       "      <td>NaN</td>\n",
       "      <td>NaN</td>\n",
       "    </tr>\n",
       "    <tr>\n",
       "      <th>4</th>\n",
       "      <td>NaN</td>\n",
       "      <td>NaN</td>\n",
       "      <td>NaN</td>\n",
       "      <td>NaN</td>\n",
       "      <td>NaN</td>\n",
       "      <td>NaN</td>\n",
       "      <td>Private Practice</td>\n",
       "      <td>0010H00002kMkX5QAK</td>\n",
       "      <td>False</td>\n",
       "      <td>NaN</td>\n",
       "      <td>...</td>\n",
       "      <td>NaN</td>\n",
       "      <td>NaN</td>\n",
       "      <td>NaN</td>\n",
       "      <td>NaN</td>\n",
       "      <td>NaN</td>\n",
       "      <td>NaN</td>\n",
       "      <td>NaN</td>\n",
       "      <td>NaN</td>\n",
       "      <td>NaN</td>\n",
       "      <td>NaN</td>\n",
       "    </tr>\n",
       "  </tbody>\n",
       "</table>\n",
       "<p>5 rows × 515 columns</p>\n",
       "</div>"
      ],
      "text/plain": [
       "   Able_to_Implement_Maintain_Change__c Account_Clasification__c  \\\n",
       "0                                   NaN                      NaN   \n",
       "1                                   NaN                      NaN   \n",
       "2                                   NaN                      NaN   \n",
       "3                                   NaN                      NaN   \n",
       "4                                   NaN                      NaN   \n",
       "\n",
       "  Account_Country__c Account_Owner_Manager_Name__c  \\\n",
       "0                NaN                           NaN   \n",
       "1                NaN                           NaN   \n",
       "2                NaN                           NaN   \n",
       "3                NaN                           NaN   \n",
       "4                NaN                           NaN   \n",
       "\n",
       "  Account_Owner_On_financingapproved__c Account_Owner_Role__c  \\\n",
       "0                                   NaN                   NaN   \n",
       "1                                   NaN                   NaN   \n",
       "2                                   NaN                   NaN   \n",
       "3                                   NaN                   NaN   \n",
       "4                                   NaN                   NaN   \n",
       "\n",
       "     Account_Sub__c           AccountId  Active_marketing_in_practice__c  \\\n",
       "0  Private Practice  0010H00002kMkX5QAK                            False   \n",
       "1  Private Practice  0016S00002y5wmbQAA                            False   \n",
       "2  Private Practice  0010H00002pvsjvQAA                            False   \n",
       "3  Private Practice  0010H00002kMZ3nQAG                            False   \n",
       "4  Private Practice  0010H00002kMkX5QAK                            False   \n",
       "\n",
       "  ADAPT_Account_Type__c  ... YR_1_Months__c YR_2_End_Date__c  \\\n",
       "0                   NaN  ...            NaN              NaN   \n",
       "1                   NaN  ...            NaN              NaN   \n",
       "2                   NaN  ...            NaN              NaN   \n",
       "3                   NaN  ...            NaN              NaN   \n",
       "4                   NaN  ...            NaN              NaN   \n",
       "\n",
       "  Yr_2_Incremental__c YR_2_Months__c YR_3_End_Date__c Yr_3_Incremental__c  \\\n",
       "0                 NaN            NaN              NaN                 NaN   \n",
       "1                 NaN            NaN              NaN                 NaN   \n",
       "2                 NaN            NaN              NaN                 NaN   \n",
       "3                 NaN            NaN              NaN                 NaN   \n",
       "4                 NaN            NaN              NaN                 NaN   \n",
       "\n",
       "  YR_3_Months__c  converted_lead__c  Finance_duration_years__c  \\\n",
       "0            NaN                NaN                        NaN   \n",
       "1            NaN                NaN                        NaN   \n",
       "2            NaN                NaN                        NaN   \n",
       "3            NaN                NaN                        NaN   \n",
       "4            NaN                NaN                        NaN   \n",
       "\n",
       "   Monthly_leasing_fee__c  \n",
       "0                     NaN  \n",
       "1                     NaN  \n",
       "2                     NaN  \n",
       "3                     NaN  \n",
       "4                     NaN  \n",
       "\n",
       "[5 rows x 515 columns]"
      ]
     },
     "execution_count": 28,
     "metadata": {},
     "output_type": "execute_result"
    }
   ],
   "source": [
    "# Read Data in the File| Don't forget to include the file format\n",
    "df = pd.read_csv(\"data/full_data.csv\")\n",
    "\n",
    "df.head()"
   ]
  },
  {
   "cell_type": "code",
   "execution_count": 29,
   "id": "23c018df",
   "metadata": {},
   "outputs": [
    {
     "name": "stdout",
     "output_type": "stream",
     "text": [
      "(113804, 8) (113804,)\n"
     ]
    }
   ],
   "source": [
    "X = df[[\"Doctor_segment__c\",\"Days_Demo_to_Contract__c\",\"Order_Age__c\",\"Stage_age__c\",\"Trade_In__c\",\"Closed_Reason__c\",\"Go_Digital__c\",\"Sale_Type__c\"]]\n",
    "y = df['IsWon']\n",
    "\n",
    "print(X.shape,y.shape)"
   ]
  },
  {
   "cell_type": "code",
   "execution_count": 30,
   "id": "d4083678",
   "metadata": {
    "scrolled": true
   },
   "outputs": [
    {
     "data": {
      "text/plain": [
       "Doctor_segment__c            44499\n",
       "Days_Demo_to_Contract__c    106469\n",
       "Order_Age__c                106963\n",
       "Stage_age__c                 26254\n",
       "Trade_In__c                 107322\n",
       "Closed_Reason__c             42725\n",
       "Go_Digital__c                    0\n",
       "Sale_Type__c                  2994\n",
       "dtype: int64"
      ]
     },
     "execution_count": 30,
     "metadata": {},
     "output_type": "execute_result"
    }
   ],
   "source": [
    "X.isnull().sum()"
   ]
  },
  {
   "cell_type": "code",
   "execution_count": 31,
   "id": "400ee993",
   "metadata": {},
   "outputs": [
    {
     "data": {
      "text/html": [
       "<div>\n",
       "<style scoped>\n",
       "    .dataframe tbody tr th:only-of-type {\n",
       "        vertical-align: middle;\n",
       "    }\n",
       "\n",
       "    .dataframe tbody tr th {\n",
       "        vertical-align: top;\n",
       "    }\n",
       "\n",
       "    .dataframe thead th {\n",
       "        text-align: right;\n",
       "    }\n",
       "</style>\n",
       "<table border=\"1\" class=\"dataframe\">\n",
       "  <thead>\n",
       "    <tr style=\"text-align: right;\">\n",
       "      <th></th>\n",
       "      <th>Doctor_segment__c</th>\n",
       "      <th>Days_Demo_to_Contract__c</th>\n",
       "      <th>Order_Age__c</th>\n",
       "      <th>Stage_age__c</th>\n",
       "      <th>Trade_In__c</th>\n",
       "      <th>Closed_Reason__c</th>\n",
       "      <th>Go_Digital__c</th>\n",
       "      <th>Sale_Type__c</th>\n",
       "    </tr>\n",
       "  </thead>\n",
       "  <tbody>\n",
       "    <tr>\n",
       "      <th>0</th>\n",
       "      <td>NaN</td>\n",
       "      <td>NaN</td>\n",
       "      <td>NaN</td>\n",
       "      <td>129.0</td>\n",
       "      <td>NaN</td>\n",
       "      <td>NaN</td>\n",
       "      <td>False</td>\n",
       "      <td>LATAM Resale</td>\n",
       "    </tr>\n",
       "    <tr>\n",
       "      <th>1</th>\n",
       "      <td>NaN</td>\n",
       "      <td>NaN</td>\n",
       "      <td>NaN</td>\n",
       "      <td>71.0</td>\n",
       "      <td>NaN</td>\n",
       "      <td>NaN</td>\n",
       "      <td>False</td>\n",
       "      <td>LATAM Resale</td>\n",
       "    </tr>\n",
       "    <tr>\n",
       "      <th>2</th>\n",
       "      <td>NaN</td>\n",
       "      <td>NaN</td>\n",
       "      <td>NaN</td>\n",
       "      <td>71.0</td>\n",
       "      <td>NaN</td>\n",
       "      <td>NaN</td>\n",
       "      <td>False</td>\n",
       "      <td>LATAM Resale</td>\n",
       "    </tr>\n",
       "    <tr>\n",
       "      <th>3</th>\n",
       "      <td>NaN</td>\n",
       "      <td>NaN</td>\n",
       "      <td>NaN</td>\n",
       "      <td>71.0</td>\n",
       "      <td>NaN</td>\n",
       "      <td>NaN</td>\n",
       "      <td>False</td>\n",
       "      <td>LATAM Resale</td>\n",
       "    </tr>\n",
       "    <tr>\n",
       "      <th>4</th>\n",
       "      <td>NaN</td>\n",
       "      <td>NaN</td>\n",
       "      <td>NaN</td>\n",
       "      <td>71.0</td>\n",
       "      <td>NaN</td>\n",
       "      <td>NaN</td>\n",
       "      <td>False</td>\n",
       "      <td>LATAM Resale</td>\n",
       "    </tr>\n",
       "  </tbody>\n",
       "</table>\n",
       "</div>"
      ],
      "text/plain": [
       "  Doctor_segment__c  Days_Demo_to_Contract__c  Order_Age__c  Stage_age__c  \\\n",
       "0               NaN                       NaN           NaN         129.0   \n",
       "1               NaN                       NaN           NaN          71.0   \n",
       "2               NaN                       NaN           NaN          71.0   \n",
       "3               NaN                       NaN           NaN          71.0   \n",
       "4               NaN                       NaN           NaN          71.0   \n",
       "\n",
       "  Trade_In__c Closed_Reason__c  Go_Digital__c  Sale_Type__c  \n",
       "0         NaN              NaN          False  LATAM Resale  \n",
       "1         NaN              NaN          False  LATAM Resale  \n",
       "2         NaN              NaN          False  LATAM Resale  \n",
       "3         NaN              NaN          False  LATAM Resale  \n",
       "4         NaN              NaN          False  LATAM Resale  "
      ]
     },
     "execution_count": 31,
     "metadata": {},
     "output_type": "execute_result"
    }
   ],
   "source": [
    "X.head()"
   ]
  },
  {
   "cell_type": "code",
   "execution_count": 32,
   "id": "f74e6fe8",
   "metadata": {},
   "outputs": [],
   "source": [
    "def preprocess_data(X):\n",
    "    X[\"Days_Demo_to_Contract__c\"] = X[\"Days_Demo_to_Contract__c\"].fillna(0)\n",
    "    X[\"Order_Age__c\"] = X[\"Order_Age__c\"].fillna(0)\n",
    "    X[\"Stage_age__c\"] = X[\"Stage_age__c\"].fillna(0)\n",
    "    \n",
    "    \n",
    "\n",
    "    ### For Numerical Columns\n",
    "    scaler = MinMaxScaler(feature_range = (0,1))\n",
    "    df_numeric = X.select_dtypes(include=[np.number])\n",
    "    numeric_cols = df_numeric.columns.values\n",
    "    \n",
    "    for col in numeric_cols:\n",
    "        X[col] = scaler.fit_transform(X[[col]])\n",
    "        \n",
    "    print(\"---Successfully processed numeric column(s)\")\n",
    "    print(X.head(5))\n",
    "    \n",
    "    \n",
    "    ##For Categorical Columns\n",
    "    ## Converting Columns into one-hot encoding\n",
    "    df_categorical = X.select_dtypes(exclude=[np.number])\n",
    "    categorical_cols = df_categorical.columns.values\n",
    "    \n",
    "    for cat_cols in categorical_cols:\n",
    "        X[cat_cols] = label_encoder.fit_transform(X[cat_cols])\n",
    "    \n",
    "    print(\"---Successfully processed categorical column(s)\")\n",
    "    print(X.head(5))\n",
    "    \n",
    "    return X"
   ]
  },
  {
   "cell_type": "code",
   "execution_count": 33,
   "id": "aba58e7c",
   "metadata": {
    "scrolled": true
   },
   "outputs": [
    {
     "name": "stdout",
     "output_type": "stream",
     "text": [
      "---Successfully processed numeric column(s)\n",
      "  Doctor_segment__c  Days_Demo_to_Contract__c  Order_Age__c  Stage_age__c  \\\n",
      "0               NaN                  0.478313      0.072464      0.309524   \n",
      "1               NaN                  0.478313      0.072464      0.171429   \n",
      "2               NaN                  0.478313      0.072464      0.171429   \n",
      "3               NaN                  0.478313      0.072464      0.171429   \n",
      "4               NaN                  0.478313      0.072464      0.171429   \n",
      "\n",
      "  Trade_In__c Closed_Reason__c  Go_Digital__c  Sale_Type__c  \n",
      "0         NaN              NaN          False  LATAM Resale  \n",
      "1         NaN              NaN          False  LATAM Resale  \n",
      "2         NaN              NaN          False  LATAM Resale  \n",
      "3         NaN              NaN          False  LATAM Resale  \n",
      "4         NaN              NaN          False  LATAM Resale  \n",
      "---Successfully processed categorical column(s)\n",
      "   Doctor_segment__c  Days_Demo_to_Contract__c  Order_Age__c  Stage_age__c  \\\n",
      "0                 35                  0.478313      0.072464      0.309524   \n",
      "1                 35                  0.478313      0.072464      0.171429   \n",
      "2                 35                  0.478313      0.072464      0.171429   \n",
      "3                 35                  0.478313      0.072464      0.171429   \n",
      "4                 35                  0.478313      0.072464      0.171429   \n",
      "\n",
      "   Trade_In__c  Closed_Reason__c  Go_Digital__c  Sale_Type__c  \n",
      "0           31                23              0            13  \n",
      "1           31                23              0            13  \n",
      "2           31                23              0            13  \n",
      "3           31                23              0            13  \n",
      "4           31                23              0            13  \n"
     ]
    }
   ],
   "source": [
    "X = preprocess_data(X)"
   ]
  },
  {
   "cell_type": "code",
   "execution_count": 34,
   "id": "9c7c42ed",
   "metadata": {
    "scrolled": false
   },
   "outputs": [
    {
     "data": {
      "text/plain": [
       "Doctor_segment__c           0\n",
       "Days_Demo_to_Contract__c    0\n",
       "Order_Age__c                0\n",
       "Stage_age__c                0\n",
       "Trade_In__c                 0\n",
       "Closed_Reason__c            0\n",
       "Go_Digital__c               0\n",
       "Sale_Type__c                0\n",
       "dtype: int64"
      ]
     },
     "execution_count": 34,
     "metadata": {},
     "output_type": "execute_result"
    }
   ],
   "source": [
    "X.isnull().sum()"
   ]
  },
  {
   "cell_type": "code",
   "execution_count": 35,
   "id": "15f0fa61",
   "metadata": {},
   "outputs": [
    {
     "data": {
      "text/plain": [
       "(113804, 8)"
      ]
     },
     "execution_count": 35,
     "metadata": {},
     "output_type": "execute_result"
    }
   ],
   "source": [
    "X.shape"
   ]
  },
  {
   "cell_type": "markdown",
   "id": "11db373b",
   "metadata": {},
   "source": [
    "### Split Data into training and Testing Data"
   ]
  },
  {
   "cell_type": "code",
   "execution_count": 36,
   "id": "2c8fec4d",
   "metadata": {},
   "outputs": [
    {
     "name": "stdout",
     "output_type": "stream",
     "text": [
      "(91043, 8) (22761, 8) (91043,) (22761,)\n"
     ]
    }
   ],
   "source": [
    "X_train, X_test, y_train, y_test = train_test_split(X,y, test_size = 0.2, random_state = 50, stratify = y)\n",
    "print(X_train.shape , X_test.shape , y_train.shape , y_test.shape)"
   ]
  },
  {
   "cell_type": "markdown",
   "id": "174ebf11",
   "metadata": {},
   "source": [
    "# <!-- from sklearn.svm import SVC\n",
    "\n",
    "svm_classifier = SVC(C=1, verbose=True, kernel=\"linear\")\n",
    "svm_classifier.fit(X_train,y_train)\n",
    "\n",
    "y_pred_svm = svm_classifier.predict(X_test)\n",
    "print(metrics.accuracy_score(y_test,y_pred_svm)) -->"
   ]
  },
  {
   "cell_type": "code",
   "execution_count": 37,
   "id": "9a2047c1",
   "metadata": {},
   "outputs": [],
   "source": [
    "logreg = LogisticRegression(solver='liblinear',random_state=10)\n",
    "logreg.fit(X_train,y_train)\n",
    "\n",
    "y_pred_logreg = logreg.predict(X_test)"
   ]
  },
  {
   "cell_type": "markdown",
   "id": "ba048480",
   "metadata": {},
   "source": [
    "### Grid Search (HyperTuning)"
   ]
  },
  {
   "cell_type": "code",
   "execution_count": 38,
   "id": "0bf1aad4",
   "metadata": {},
   "outputs": [
    {
     "name": "stdout",
     "output_type": "stream",
     "text": [
      "Best cross-validation score: 0.88\n",
      "Best parameters:  {'C': 40}\n",
      "Best estimator:  LogisticRegression(C=40, solver='liblinear')\n",
      "[False False False ... False False False]\n"
     ]
    }
   ],
   "source": [
    "param_grid = {'C': [0.01,0.1,1,10,20,30,40]}\n",
    "grid = GridSearchCV(LogisticRegression(solver='liblinear'),param_grid,cv=5)\n",
    "\n",
    "grid.fit(X_train,y_train)\n",
    "\n",
    "print(\"Best cross-validation score: {:.2f}\".format(grid.best_score_))\n",
    "print(\"Best parameters: \", grid.best_params_)\n",
    "print(\"Best estimator: \", grid.best_estimator_)\n",
    "\n",
    "y_pred_acc = grid.predict(X_test)\n",
    "print(y_pred_acc)"
   ]
  },
  {
   "cell_type": "code",
   "execution_count": 39,
   "id": "87e23ec2",
   "metadata": {},
   "outputs": [],
   "source": [
    "# print(\"Testing accuracy %s\" % accuracy_score(y_test,y_pred_acc))"
   ]
  },
  {
   "cell_type": "markdown",
   "id": "aa0a97fc",
   "metadata": {},
   "source": [
    "### Using Decision Tree Classifier to Predict"
   ]
  },
  {
   "cell_type": "code",
   "execution_count": 40,
   "id": "e60f34b0",
   "metadata": {},
   "outputs": [
    {
     "name": "stdout",
     "output_type": "stream",
     "text": [
      "Train-Test Split accuracy 0.9389745617503624\n"
     ]
    }
   ],
   "source": [
    "decision_tree_classifier = DecisionTreeClassifier(random_state = 10).fit(X_train,y_train)\n",
    "y_pred_DTC = decision_tree_classifier.predict(X_test)\n",
    "\n",
    "accuracy = metrics.accuracy_score(y_test,y_pred_DTC)\n",
    "print(\"Train-Test Split accuracy\", accuracy)"
   ]
  },
  {
   "cell_type": "code",
   "execution_count": 41,
   "id": "2e53d234",
   "metadata": {},
   "outputs": [
    {
     "name": "stdout",
     "output_type": "stream",
     "text": [
      "###############################################\n",
      "Start testing Using XGBoost\n",
      "###############################################\n",
      "Accuracy Score on test dataset :  94.89038267211458 %\n",
      "###############################################\n",
      "End testing Using XGBoost\n",
      "###############################################\n",
      "\n",
      "_____________________________________\n",
      "Start testing Using Logistic Regression\n",
      "_____________________________________\n",
      "Testing accuracy 87.85202759105488 %\n",
      "_____________________________________\n",
      "Stop testing Using Logistic Regression\n",
      "_____________________________________\n",
      "\n",
      "~~~~~~~~~~~~~~~~~~~~~~~~~~~~~~~~~~~~~~\n",
      "Start testing Using Decision Tree Classifier\n",
      "~~~~~~~~~~~~~~~~~~~~~~~~~~~~~~~~~~~~~~~\n",
      "\n",
      "Train-Test Split accuracy 93.90184965511182 %\n",
      "\n",
      "~~~~~~~~~~~~~~~~~~~~~~~~~~~~~~~~~~~~~~\n",
      "Stop testing Using Decision Tree Classifier\n",
      "~~~~~~~~~~~~~~~~~~~~~~~~~~~~~~~~~~~~~~~\n",
      "\n",
      "AlignTechAlignTechAlignTechAlignTechAlignTechAlignTech\n",
      "Start test using Random Forest Classifier\n",
      "AlignTechAlignTechAlignTechAlignTechAlignTechAlignTech\n",
      "\n",
      "Train-Test Split accuracy 94.42467378410439 %\n",
      "\n",
      "\n",
      "AlignTechAlignTechAlignTechAlignTechAlignTechAlignTech\n",
      "Stop test using Random Forest Classifier\n",
      "AlignTechAlignTechAlignTechAlignTechAlignTechAlignTech\n"
     ]
    }
   ],
   "source": [
    "\n",
    "print(\"###############################################\")\n",
    "print(\"Start testing Using XGBoost\")\n",
    "print(\"###############################################\")\n",
    "modelXGB = xgb.XGBClassifier(learning_rate = 0.4, random_state = 10)\n",
    "modelXGB.fit(X_train,y_train)\n",
    "\n",
    "y_pred_XGB = modelXGB.predict(X_test)\n",
    "accuracy_XGB = metrics.accuracy_score(y_test,y_pred_XGB)\n",
    "print(\"Accuracy Score on test dataset : \", accuracy_XGB*100, \"%\")\n",
    "\n",
    "print(\"###############################################\")\n",
    "print(\"End testing Using XGBoost\")\n",
    "print(\"###############################################\")\n",
    "\n",
    "# ################################################\n",
    "print(\"\\n_____________________________________\")\n",
    "print(\"Start testing Using Logistic Regression\")\n",
    "print(\"_____________________________________\")\n",
    "\n",
    "logreg = LogisticRegression(solver='liblinear',random_state=10)\n",
    "logreg.fit(X_train,y_train)\n",
    "\n",
    "y_pred_logreg = logreg.predict(X_test)\n",
    "print(\"Testing accuracy %s\" % (accuracy_score(y_test,y_pred_logreg)*100), \"%\")\n",
    "\n",
    "print(\"_____________________________________\")\n",
    "print(\"Stop testing Using Logistic Regression\")\n",
    "print(\"_____________________________________\")\n",
    "\n",
    "\n",
    "print(\"\\n~~~~~~~~~~~~~~~~~~~~~~~~~~~~~~~~~~~~~~\")\n",
    "print(\"Start testing Using Decision Tree Classifier\")\n",
    "print(\"~~~~~~~~~~~~~~~~~~~~~~~~~~~~~~~~~~~~~~~\")\n",
    "\n",
    "decision_tree_classifier = DecisionTreeClassifier(random_state = 20).fit(X_train,y_train)\n",
    "y_pred_DTC = decision_tree_classifier.predict(X_test)\n",
    "\n",
    "accuracy_DTC = metrics.accuracy_score(y_test,y_pred_DTC)\n",
    "print(\"\\nTrain-Test Split accuracy\", accuracy_DTC*100, \"%\\n\")\n",
    "\n",
    "print(\"~~~~~~~~~~~~~~~~~~~~~~~~~~~~~~~~~~~~~~\")\n",
    "print(\"Stop testing Using Decision Tree Classifier\")\n",
    "print(\"~~~~~~~~~~~~~~~~~~~~~~~~~~~~~~~~~~~~~~~\")\n",
    "\n",
    "\n",
    "print(\"\\nAlignTechAlignTechAlignTechAlignTechAlignTechAlignTech\\nStart test using Random Forest Classifier\\nAlignTechAlignTechAlignTechAlignTechAlignTechAlignTech\")\n",
    "ranForest = RandomForestClassifier(random_state=5)\n",
    "\n",
    "ranForest.fit(X_train,y_train)\n",
    "\n",
    "y_pred_ranForest = ranForest.predict(X_test)\n",
    "print(\"\\nTrain-Test Split accuracy\",metrics.accuracy_score(y_test,y_pred_ranForest)*100,\"%\\n\")\n",
    "print(\"\\nAlignTechAlignTechAlignTechAlignTechAlignTechAlignTech\\nStop test using Random Forest Classifier\\nAlignTechAlignTechAlignTechAlignTechAlignTechAlignTech\")\n",
    "\n",
    "\n"
   ]
  },
  {
   "cell_type": "markdown",
   "id": "df5812d5",
   "metadata": {},
   "source": [
    "# Finding out which is the best Features (i.e. Columns)"
   ]
  },
  {
   "cell_type": "code",
   "execution_count": 42,
   "id": "ec165940",
   "metadata": {
    "scrolled": true
   },
   "outputs": [
    {
     "name": "stdout",
     "output_type": "stream",
     "text": [
      "Num Features: 3\n",
      "Selected Features: [False  True False False False  True False  True]\n",
      "Feature Ranking: [5 1 3 4 2 1 6 1]\n",
      "Top 3 Columns are: ['Days_Demo_to_Contract__c' 'Closed_Reason__c' 'Sale_Type__c']\n"
     ]
    }
   ],
   "source": [
    "rfe = RFE(modelXGB, n_features_to_select=3)\n",
    "fit = rfe.fit(X,y)\n",
    "\n",
    "print(\"Num Features: %d\" % fit.n_features_)\n",
    "print(\"Selected Features: %s\" % fit.support_)\n",
    "print(\"Feature Ranking: %s\" % fit.ranking_)\n",
    "\n",
    "selected = fit.support_\n",
    "feature_names = X.columns\n",
    "\n",
    "print(\"Top 3 Columns are:\", feature_names.to_numpy()[selected])"
   ]
  },
  {
   "cell_type": "code",
   "execution_count": null,
   "id": "874dea97",
   "metadata": {},
   "outputs": [],
   "source": []
  },
  {
   "cell_type": "markdown",
   "id": "f3d224c7",
   "metadata": {},
   "source": [
    "# Accuracy Score"
   ]
  },
  {
   "cell_type": "code",
   "execution_count": 43,
   "id": "c03dbbd8",
   "metadata": {},
   "outputs": [
    {
     "name": "stdout",
     "output_type": "stream",
     "text": [
      "The f1 Score using XGB is:0.8138306387065792\n",
      "The ROC Score using XGB is:0.8802776667796318\n"
     ]
    }
   ],
   "source": [
    "from sklearn.metrics import f1_score\n",
    "\n",
    "f1_final = f1_score(y_test,y_pred_XGB)\n",
    "\n",
    "\n",
    "from sklearn.metrics import roc_auc_score\n",
    "\n",
    "roc_score = roc_auc_score(y_test,y_pred_XGB)\n",
    "print(f\"The f1 Score using XGB is:{f1_final}\" )\n",
    "print(f\"The ROC Score using XGB is:{roc_score}\" )"
   ]
  },
  {
   "cell_type": "code",
   "execution_count": 44,
   "id": "5d885d33",
   "metadata": {},
   "outputs": [
    {
     "name": "stdout",
     "output_type": "stream",
     "text": [
      "The f1 Score using Decision Tree Classifier is:0.7700463883366467\n",
      "The ROC Score using Decision Tree Classifier is:0.8464667683142726\n"
     ]
    }
   ],
   "source": [
    "f1_final = f1_score(y_test,y_pred_DTC)\n",
    "\n",
    "\n",
    "from sklearn.metrics import roc_auc_score\n",
    "\n",
    "roc_score = roc_auc_score(y_test,y_pred_DTC)\n",
    "print(f\"The f1 Score using Decision Tree Classifier is:{f1_final}\" )\n",
    "print(f\"The ROC Score using Decision Tree Classifier is:{roc_score}\" )"
   ]
  },
  {
   "cell_type": "code",
   "execution_count": 45,
   "id": "46699433",
   "metadata": {},
   "outputs": [
    {
     "name": "stdout",
     "output_type": "stream",
     "text": [
      "The f1 Score using LogReg is:0.34525219038598154\n",
      "The ROC Score using LogReg is:0.6059847557043211\n"
     ]
    }
   ],
   "source": [
    "f1_final = f1_score(y_test,y_pred_logreg)\n",
    "\n",
    "\n",
    "from sklearn.metrics import roc_auc_score\n",
    "\n",
    "roc_score = roc_auc_score(y_test,y_pred_logreg)\n",
    "print(f\"The f1 Score using LogReg is:{f1_final}\" )\n",
    "print(f\"The ROC Score using LogReg is:{roc_score}\" )"
   ]
  },
  {
   "cell_type": "code",
   "execution_count": 46,
   "id": "279c463c",
   "metadata": {},
   "outputs": [
    {
     "name": "stdout",
     "output_type": "stream",
     "text": [
      "The f1 Score using LogReg is:0.7955534074432093\n",
      "The ROC Score using LogReg is:0.8681704237080238\n"
     ]
    }
   ],
   "source": [
    "f1_final = f1_score(y_test,y_pred_ranForest)\n",
    "\n",
    "\n",
    "from sklearn.metrics import roc_auc_score\n",
    "\n",
    "roc_score = roc_auc_score(y_test,y_pred_ranForest)\n",
    "print(f\"The f1 Score using LogReg is:{f1_final}\" )\n",
    "print(f\"The ROC Score using LogReg is:{roc_score}\" )"
   ]
  },
  {
   "cell_type": "code",
   "execution_count": null,
   "id": "1508b4ea",
   "metadata": {},
   "outputs": [],
   "source": []
  },
  {
   "cell_type": "code",
   "execution_count": null,
   "id": "9557ec7e",
   "metadata": {},
   "outputs": [],
   "source": []
  },
  {
   "cell_type": "code",
   "execution_count": 47,
   "id": "331dde23",
   "metadata": {},
   "outputs": [
    {
     "name": "stdout",
     "output_type": "stream",
     "text": [
      "Testing accuracy 0.9489038267211458\n",
      "              precision    recall  f1-score   support\n",
      "\n",
      "       False       0.96      0.98      0.97     19520\n",
      "        True       0.85      0.78      0.81      3241\n",
      "\n",
      "    accuracy                           0.95     22761\n",
      "   macro avg       0.91      0.88      0.89     22761\n",
      "weighted avg       0.95      0.95      0.95     22761\n",
      "\n"
     ]
    },
    {
     "data": {
      "image/png": "[encoded data removed]",
      "text/plain": [
       "<Figure size 640x480 with 2 Axes>"
      ]
     },
     "metadata": {},
     "output_type": "display_data"
    }
   ],
   "source": [
    "print(\"Testing accuracy %s\" % accuracy_score(y_test,y_pred_XGB))\n",
    "\n",
    "labels = [True,False]\n",
    "cm = confusion_matrix(y_test,y_pred_XGB,labels=labels)\n",
    "disp = ConfusionMatrixDisplay(confusion_matrix=cm,display_labels=labels)\n",
    "disp.plot()\n",
    "\n",
    "print(classification_report(y_test,y_pred_XGB))"
   ]
  },
  {
   "cell_type": "code",
   "execution_count": null,
   "id": "362d742f",
   "metadata": {},
   "outputs": [],
   "source": []
  },
  {
   "cell_type": "markdown",
   "id": "27f390e8",
   "metadata": {},
   "source": [
    "# Prediction on Current Data"
   ]
  },
  {
   "cell_type": "code",
   "execution_count": 48,
   "id": "3d821732",
   "metadata": {},
   "outputs": [],
   "source": [
    "df2 = pd.read_csv(\"data/asdfgh.csv\")\n",
    "X_final = df2[[\"Doctor_segment__c\",\"Days_Demo_to_Contract__c\",\"Order_Age__c\",\"Stage_age__c\",\"Trade_In__c\",\"Closed_Reason__c\",\"Go_Digital__c\",\"Sale_Type__c\"]]\n",
    "\n"
   ]
  },
  {
   "cell_type": "code",
   "execution_count": 49,
   "id": "fd7843f8",
   "metadata": {},
   "outputs": [
    {
     "name": "stdout",
     "output_type": "stream",
     "text": [
      "---Successfully processed numeric column(s)\n",
      "  Doctor_segment__c  Days_Demo_to_Contract__c  Order_Age__c  Stage_age__c  \\\n",
      "0               NaN                  0.626984           0.0      0.102662   \n",
      "1               NaN                  0.766789           0.0      0.165399   \n",
      "2               NaN                  0.626984           0.0      0.102662   \n",
      "3               NaN                  0.626984           0.0      0.102662   \n",
      "4               NaN                  0.717949           0.0      0.260456   \n",
      "\n",
      "  Trade_In__c Closed_Reason__c Go_Digital__c  Sale_Type__c  \n",
      "0         NaN              NaN         False   Distributor  \n",
      "1         NaN              NaN         False  LATAM Resale  \n",
      "2         NaN              NaN         False   Distributor  \n",
      "3         NaN              NaN         False   Distributor  \n",
      "4         NaN              NaN         False  LATAM Resale  \n",
      "---Successfully processed categorical column(s)\n",
      "   Doctor_segment__c  Days_Demo_to_Contract__c  Order_Age__c  Stage_age__c  \\\n",
      "0                 28                  0.626984           0.0      0.102662   \n",
      "1                 28                  0.766789           0.0      0.165399   \n",
      "2                 28                  0.626984           0.0      0.102662   \n",
      "3                 28                  0.626984           0.0      0.102662   \n",
      "4                 28                  0.717949           0.0      0.260456   \n",
      "\n",
      "   Trade_In__c  Closed_Reason__c  Go_Digital__c  Sale_Type__c  \n",
      "0           17                13              0             4  \n",
      "1           17                13              0            11  \n",
      "2           17                13              0             4  \n",
      "3           17                13              0             4  \n",
      "4           17                13              0            11  \n"
     ]
    }
   ],
   "source": [
    "X_final = preprocess_data(X_final)"
   ]
  },
  {
   "cell_type": "code",
   "execution_count": 50,
   "id": "a3ca0195",
   "metadata": {},
   "outputs": [],
   "source": [
    "y_pred_XGB = modelXGB.predict(X_final)\n",
    "y_pred_XGB_df = pd.DataFrame(y_pred_XGB)\n",
    "y_pred_XGB_df.columns = [\"IsWon\"]\n",
    "df2[\"PredictedIsWon\"] = y_pred_XGB_df\n",
    "df2 = df2.reset_index(drop=True)\n",
    "df2.to_csv(\"output/new_asdfgh.csv\",index=False)"
   ]
  },
  {
   "cell_type": "code",
   "execution_count": 27,
   "id": "02fbe64c",
   "metadata": {
    "scrolled": true
   },
   "outputs": [],
   "source": []
  },
  {
   "cell_type": "code",
   "execution_count": 33,
   "id": "943e32e4",
   "metadata": {},
   "outputs": [],
   "source": []
  },
  {
   "cell_type": "code",
   "execution_count": 36,
   "id": "b8597196",
   "metadata": {},
   "outputs": [],
   "source": []
  },
  {
   "cell_type": "code",
   "execution_count": 40,
   "id": "2389121c",
   "metadata": {},
   "outputs": [],
   "source": []
  },
  {
   "cell_type": "code",
   "execution_count": 35,
   "id": "510feada",
   "metadata": {},
   "outputs": [],
   "source": []
  },
  {
   "cell_type": "code",
   "execution_count": null,
   "id": "23f8d7b7",
   "metadata": {},
   "outputs": [],
   "source": []
  }
 ],
 "metadata": {
  "kernelspec": {
   "display_name": "Python 3 (ipykernel)",
   "language": "python",
   "name": "python3"
  },
  "language_info": {
   "codemirror_mode": {
    "name": "ipython",
    "version": 3
   },
   "file_extension": ".py",
   "mimetype": "text/x-python",
   "name": "python",
   "nbconvert_exporter": "python",
   "pygments_lexer": "ipython3",
   "version": "3.9.13"
  }
 },
 "nbformat": 4,
 "nbformat_minor": 5
}
